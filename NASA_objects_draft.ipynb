{
 "cells": [
  {
   "cell_type": "markdown",
   "metadata": {},
   "source": [
    "## Project 1: NASA's hazardous objects\n"
   ]
  },
  {
   "cell_type": "markdown",
   "metadata": {},
   "source": [
    "# Potentialy Hazardous Objects\n",
    "\n",
    "Potentially Hazardous Asteroids (PHAs) are currently defined based on parameters that measure the asteroid’s potential to make threatening close approaches to the Earth. Specifically, all asteroids with a minimum orbit intersection distance (MOID) of 0.05 au or less and an absolute magnitude (H) of 22.0 or less are considered PHAs (Jet Propulsion Laboratory, NASA).\n",
    "\n",
    "An astronomical unit is the average distance between the Earth and the Sun, meaning that 0.05 au 7.5 Million Km\n",
    "\n",
    "The Absolute Magnitude is a measure of the luminosity of a celestial body on a inverse logaritmic scale. i.e. Venus has a magnitude of -5, Jupiter has a luminosity of -3, Pluton have a magnitude of 14, meanwhile the small asteroids have a magitud above 22.\n",
    "\n",
    "We will be focusoing on the objects with a proximity equal or less than 0.05 au and a magnitude below 22."
   ]
  },
  {
   "cell_type": "code",
   "execution_count": 1,
   "metadata": {},
   "outputs": [],
   "source": [
    "# Dependencies\n",
    "import pandas as pd \n",
    "import matplotlib.pyplot as plt \n",
    "import scipy.stats as st \n",
    "import csv \n"
   ]
  },
  {
   "cell_type": "code",
   "execution_count": 2,
   "metadata": {},
   "outputs": [
    {
     "data": {
      "text/html": [
       "<div>\n",
       "<style scoped>\n",
       "    .dataframe tbody tr th:only-of-type {\n",
       "        vertical-align: middle;\n",
       "    }\n",
       "\n",
       "    .dataframe tbody tr th {\n",
       "        vertical-align: top;\n",
       "    }\n",
       "\n",
       "    .dataframe thead th {\n",
       "        text-align: right;\n",
       "    }\n",
       "</style>\n",
       "<table border=\"1\" class=\"dataframe\">\n",
       "  <thead>\n",
       "    <tr style=\"text-align: right;\">\n",
       "      <th></th>\n",
       "      <th>id</th>\n",
       "      <th>name</th>\n",
       "      <th>est_diameter_min</th>\n",
       "      <th>est_diameter_max</th>\n",
       "      <th>relative_velocity</th>\n",
       "      <th>miss_distance</th>\n",
       "      <th>orbiting_body</th>\n",
       "      <th>sentry_object</th>\n",
       "      <th>absolute_magnitude</th>\n",
       "      <th>hazardous</th>\n",
       "    </tr>\n",
       "  </thead>\n",
       "  <tbody>\n",
       "    <tr>\n",
       "      <th>0</th>\n",
       "      <td>2162635</td>\n",
       "      <td>162635 (2000 SS164)</td>\n",
       "      <td>1.198271</td>\n",
       "      <td>2.679415</td>\n",
       "      <td>13569.249224</td>\n",
       "      <td>5.483974e+07</td>\n",
       "      <td>Earth</td>\n",
       "      <td>False</td>\n",
       "      <td>16.73</td>\n",
       "      <td>False</td>\n",
       "    </tr>\n",
       "    <tr>\n",
       "      <th>1</th>\n",
       "      <td>2277475</td>\n",
       "      <td>277475 (2005 WK4)</td>\n",
       "      <td>0.265800</td>\n",
       "      <td>0.594347</td>\n",
       "      <td>73588.726663</td>\n",
       "      <td>6.143813e+07</td>\n",
       "      <td>Earth</td>\n",
       "      <td>False</td>\n",
       "      <td>20.00</td>\n",
       "      <td>True</td>\n",
       "    </tr>\n",
       "    <tr>\n",
       "      <th>2</th>\n",
       "      <td>2512244</td>\n",
       "      <td>512244 (2015 YE18)</td>\n",
       "      <td>0.722030</td>\n",
       "      <td>1.614507</td>\n",
       "      <td>114258.692129</td>\n",
       "      <td>4.979872e+07</td>\n",
       "      <td>Earth</td>\n",
       "      <td>False</td>\n",
       "      <td>17.83</td>\n",
       "      <td>False</td>\n",
       "    </tr>\n",
       "    <tr>\n",
       "      <th>3</th>\n",
       "      <td>3596030</td>\n",
       "      <td>(2012 BV13)</td>\n",
       "      <td>0.096506</td>\n",
       "      <td>0.215794</td>\n",
       "      <td>24764.303138</td>\n",
       "      <td>2.543497e+07</td>\n",
       "      <td>Earth</td>\n",
       "      <td>False</td>\n",
       "      <td>22.20</td>\n",
       "      <td>False</td>\n",
       "    </tr>\n",
       "    <tr>\n",
       "      <th>4</th>\n",
       "      <td>3667127</td>\n",
       "      <td>(2014 GE35)</td>\n",
       "      <td>0.255009</td>\n",
       "      <td>0.570217</td>\n",
       "      <td>42737.733765</td>\n",
       "      <td>4.627557e+07</td>\n",
       "      <td>Earth</td>\n",
       "      <td>False</td>\n",
       "      <td>20.09</td>\n",
       "      <td>True</td>\n",
       "    </tr>\n",
       "  </tbody>\n",
       "</table>\n",
       "</div>"
      ],
      "text/plain": [
       "        id                 name  est_diameter_min  est_diameter_max  \\\n",
       "0  2162635  162635 (2000 SS164)          1.198271          2.679415   \n",
       "1  2277475    277475 (2005 WK4)          0.265800          0.594347   \n",
       "2  2512244   512244 (2015 YE18)          0.722030          1.614507   \n",
       "3  3596030          (2012 BV13)          0.096506          0.215794   \n",
       "4  3667127          (2014 GE35)          0.255009          0.570217   \n",
       "\n",
       "   relative_velocity  miss_distance orbiting_body  sentry_object  \\\n",
       "0       13569.249224   5.483974e+07         Earth          False   \n",
       "1       73588.726663   6.143813e+07         Earth          False   \n",
       "2      114258.692129   4.979872e+07         Earth          False   \n",
       "3       24764.303138   2.543497e+07         Earth          False   \n",
       "4       42737.733765   4.627557e+07         Earth          False   \n",
       "\n",
       "   absolute_magnitude  hazardous  \n",
       "0               16.73      False  \n",
       "1               20.00       True  \n",
       "2               17.83      False  \n",
       "3               22.20      False  \n",
       "4               20.09       True  "
      ]
     },
     "execution_count": 2,
     "metadata": {},
     "output_type": "execute_result"
    }
   ],
   "source": [
    "# Data files\n",
    "objects_path = \"./neo_v2.csv\"\n",
    "\n",
    "\n",
    "# Read the data \n",
    "objects_data = pd.read_csv(objects_path)\n",
    "objects_data.head()"
   ]
  },
  {
   "cell_type": "code",
   "execution_count": 3,
   "metadata": {},
   "outputs": [
    {
     "data": {
      "text/plain": [
       "90836"
      ]
     },
     "execution_count": 3,
     "metadata": {},
     "output_type": "execute_result"
    }
   ],
   "source": [
    "len(objects_data)"
   ]
  },
  {
   "cell_type": "code",
   "execution_count": 4,
   "metadata": {},
   "outputs": [
    {
     "data": {
      "text/plain": [
       "27423"
      ]
     },
     "execution_count": 4,
     "metadata": {},
     "output_type": "execute_result"
    }
   ],
   "source": [
    "n = objects_data['id'].nunique()\n",
    "n"
   ]
  },
  {
   "cell_type": "code",
   "execution_count": 5,
   "metadata": {},
   "outputs": [],
   "source": [
    "unique_df = objects_data.groupby(by = 'id')['miss_distance'].min().reset_index()\n",
    "unique_df.head()\n",
    "x = unique_df['id'].nunique()\n"
   ]
  },
  {
   "cell_type": "code",
   "execution_count": 6,
   "metadata": {},
   "outputs": [
    {
     "data": {
      "text/html": [
       "<div>\n",
       "<style scoped>\n",
       "    .dataframe tbody tr th:only-of-type {\n",
       "        vertical-align: middle;\n",
       "    }\n",
       "\n",
       "    .dataframe tbody tr th {\n",
       "        vertical-align: top;\n",
       "    }\n",
       "\n",
       "    .dataframe thead th {\n",
       "        text-align: right;\n",
       "    }\n",
       "</style>\n",
       "<table border=\"1\" class=\"dataframe\">\n",
       "  <thead>\n",
       "    <tr style=\"text-align: right;\">\n",
       "      <th></th>\n",
       "      <th>id</th>\n",
       "      <th>miss_distance</th>\n",
       "      <th>name</th>\n",
       "      <th>est_diameter_min</th>\n",
       "      <th>est_diameter_max</th>\n",
       "      <th>relative_velocity</th>\n",
       "      <th>orbiting_body</th>\n",
       "      <th>sentry_object</th>\n",
       "      <th>absolute_magnitude</th>\n",
       "      <th>hazardous</th>\n",
       "    </tr>\n",
       "  </thead>\n",
       "  <tbody>\n",
       "    <tr>\n",
       "      <th>0</th>\n",
       "      <td>2000433</td>\n",
       "      <td>2.672952e+07</td>\n",
       "      <td>433 Eros (A898 PA)</td>\n",
       "      <td>23.043847</td>\n",
       "      <td>51.527608</td>\n",
       "      <td>21402.705247</td>\n",
       "      <td>Earth</td>\n",
       "      <td>False</td>\n",
       "      <td>10.310</td>\n",
       "      <td>False</td>\n",
       "    </tr>\n",
       "    <tr>\n",
       "      <th>1</th>\n",
       "      <td>2000719</td>\n",
       "      <td>4.258288e+07</td>\n",
       "      <td>719 Albert (A911 TB)</td>\n",
       "      <td>2.044349</td>\n",
       "      <td>4.571303</td>\n",
       "      <td>27551.597194</td>\n",
       "      <td>Earth</td>\n",
       "      <td>False</td>\n",
       "      <td>15.570</td>\n",
       "      <td>False</td>\n",
       "    </tr>\n",
       "    <tr>\n",
       "      <th>2</th>\n",
       "      <td>2001036</td>\n",
       "      <td>5.372124e+07</td>\n",
       "      <td>1036 Ganymed (A924 UB)</td>\n",
       "      <td>37.892650</td>\n",
       "      <td>84.730541</td>\n",
       "      <td>51496.923293</td>\n",
       "      <td>Earth</td>\n",
       "      <td>False</td>\n",
       "      <td>9.230</td>\n",
       "      <td>False</td>\n",
       "    </tr>\n",
       "    <tr>\n",
       "      <th>3</th>\n",
       "      <td>2001566</td>\n",
       "      <td>8.053782e+06</td>\n",
       "      <td>1566 Icarus (1949 MA)</td>\n",
       "      <td>1.427431</td>\n",
       "      <td>3.191832</td>\n",
       "      <td>108801.296374</td>\n",
       "      <td>Earth</td>\n",
       "      <td>False</td>\n",
       "      <td>16.350</td>\n",
       "      <td>True</td>\n",
       "    </tr>\n",
       "    <tr>\n",
       "      <th>4</th>\n",
       "      <td>2001580</td>\n",
       "      <td>3.557394e+07</td>\n",
       "      <td>1580 Betulia (1950 KA)</td>\n",
       "      <td>3.065879</td>\n",
       "      <td>6.855513</td>\n",
       "      <td>105157.775851</td>\n",
       "      <td>Earth</td>\n",
       "      <td>False</td>\n",
       "      <td>14.690</td>\n",
       "      <td>False</td>\n",
       "    </tr>\n",
       "    <tr>\n",
       "      <th>...</th>\n",
       "      <td>...</td>\n",
       "      <td>...</td>\n",
       "      <td>...</td>\n",
       "      <td>...</td>\n",
       "      <td>...</td>\n",
       "      <td>...</td>\n",
       "      <td>...</td>\n",
       "      <td>...</td>\n",
       "      <td>...</td>\n",
       "      <td>...</td>\n",
       "    </tr>\n",
       "    <tr>\n",
       "      <th>27418</th>\n",
       "      <td>54275849</td>\n",
       "      <td>2.211065e+07</td>\n",
       "      <td>(2022 GL5)</td>\n",
       "      <td>0.199965</td>\n",
       "      <td>0.447136</td>\n",
       "      <td>97087.784087</td>\n",
       "      <td>Earth</td>\n",
       "      <td>False</td>\n",
       "      <td>20.618</td>\n",
       "      <td>False</td>\n",
       "    </tr>\n",
       "    <tr>\n",
       "      <th>27419</th>\n",
       "      <td>54275852</td>\n",
       "      <td>1.781882e+07</td>\n",
       "      <td>(2022 GO5)</td>\n",
       "      <td>0.045264</td>\n",
       "      <td>0.101214</td>\n",
       "      <td>27826.213807</td>\n",
       "      <td>Earth</td>\n",
       "      <td>False</td>\n",
       "      <td>23.844</td>\n",
       "      <td>False</td>\n",
       "    </tr>\n",
       "    <tr>\n",
       "      <th>27420</th>\n",
       "      <td>54275853</td>\n",
       "      <td>9.777491e+06</td>\n",
       "      <td>(2022 GP5)</td>\n",
       "      <td>0.056022</td>\n",
       "      <td>0.125268</td>\n",
       "      <td>42604.694355</td>\n",
       "      <td>Earth</td>\n",
       "      <td>False</td>\n",
       "      <td>23.381</td>\n",
       "      <td>False</td>\n",
       "    </tr>\n",
       "    <tr>\n",
       "      <th>27421</th>\n",
       "      <td>54275865</td>\n",
       "      <td>1.895127e+04</td>\n",
       "      <td>(2022 GQ5)</td>\n",
       "      <td>0.001227</td>\n",
       "      <td>0.002744</td>\n",
       "      <td>51054.089177</td>\n",
       "      <td>Earth</td>\n",
       "      <td>False</td>\n",
       "      <td>31.678</td>\n",
       "      <td>False</td>\n",
       "    </tr>\n",
       "    <tr>\n",
       "      <th>27422</th>\n",
       "      <td>54275914</td>\n",
       "      <td>2.458422e+07</td>\n",
       "      <td>(2022 GT5)</td>\n",
       "      <td>0.109133</td>\n",
       "      <td>0.244028</td>\n",
       "      <td>67525.282313</td>\n",
       "      <td>Earth</td>\n",
       "      <td>False</td>\n",
       "      <td>21.933</td>\n",
       "      <td>False</td>\n",
       "    </tr>\n",
       "  </tbody>\n",
       "</table>\n",
       "<p>27423 rows × 10 columns</p>\n",
       "</div>"
      ],
      "text/plain": [
       "             id  miss_distance                    name  est_diameter_min  \\\n",
       "0       2000433   2.672952e+07      433 Eros (A898 PA)         23.043847   \n",
       "1       2000719   4.258288e+07    719 Albert (A911 TB)          2.044349   \n",
       "2       2001036   5.372124e+07  1036 Ganymed (A924 UB)         37.892650   \n",
       "3       2001566   8.053782e+06   1566 Icarus (1949 MA)          1.427431   \n",
       "4       2001580   3.557394e+07  1580 Betulia (1950 KA)          3.065879   \n",
       "...         ...            ...                     ...               ...   \n",
       "27418  54275849   2.211065e+07              (2022 GL5)          0.199965   \n",
       "27419  54275852   1.781882e+07              (2022 GO5)          0.045264   \n",
       "27420  54275853   9.777491e+06              (2022 GP5)          0.056022   \n",
       "27421  54275865   1.895127e+04              (2022 GQ5)          0.001227   \n",
       "27422  54275914   2.458422e+07              (2022 GT5)          0.109133   \n",
       "\n",
       "       est_diameter_max  relative_velocity orbiting_body  sentry_object  \\\n",
       "0             51.527608       21402.705247         Earth          False   \n",
       "1              4.571303       27551.597194         Earth          False   \n",
       "2             84.730541       51496.923293         Earth          False   \n",
       "3              3.191832      108801.296374         Earth          False   \n",
       "4              6.855513      105157.775851         Earth          False   \n",
       "...                 ...                ...           ...            ...   \n",
       "27418          0.447136       97087.784087         Earth          False   \n",
       "27419          0.101214       27826.213807         Earth          False   \n",
       "27420          0.125268       42604.694355         Earth          False   \n",
       "27421          0.002744       51054.089177         Earth          False   \n",
       "27422          0.244028       67525.282313         Earth          False   \n",
       "\n",
       "       absolute_magnitude  hazardous  \n",
       "0                  10.310      False  \n",
       "1                  15.570      False  \n",
       "2                   9.230      False  \n",
       "3                  16.350       True  \n",
       "4                  14.690      False  \n",
       "...                   ...        ...  \n",
       "27418              20.618      False  \n",
       "27419              23.844      False  \n",
       "27420              23.381      False  \n",
       "27421              31.678      False  \n",
       "27422              21.933      False  \n",
       "\n",
       "[27423 rows x 10 columns]"
      ]
     },
     "execution_count": 6,
     "metadata": {},
     "output_type": "execute_result"
    }
   ],
   "source": [
    "unique_objects_df = pd.merge(unique_df, objects_data, how = 'inner', on = ['id', 'miss_distance'])\n",
    "unique_objects_df\n"
   ]
  },
  {
   "cell_type": "code",
   "execution_count": 7,
   "metadata": {},
   "outputs": [],
   "source": [
    "unique_objects_df.drop(columns = ['orbiting_body', 'sentry_object'], inplace = True)\n",
    "unique_objects_df.to_csv(\"./unique_objects.csv\", index_label=\"index\")"
   ]
  },
  {
   "cell_type": "markdown",
   "metadata": {},
   "source": [
    "### Statistics "
   ]
  },
  {
   "cell_type": "code",
   "execution_count": 8,
   "metadata": {},
   "outputs": [
    {
     "data": {
      "text/plain": [
       "mean      1.770540e+07\n",
       "median    1.145114e+07\n",
       "var       2.972905e+14\n",
       "std       1.724212e+07\n",
       "sem       1.041197e+05\n",
       "Name: miss_distance, dtype: float64"
      ]
     },
     "execution_count": 8,
     "metadata": {},
     "output_type": "execute_result"
    }
   ],
   "source": [
    "miss_s = unique_objects_df['miss_distance'].agg(['mean', 'median', 'var', 'std', 'sem'])\n",
    "miss_s"
   ]
  },
  {
   "cell_type": "code",
   "execution_count": 9,
   "metadata": {},
   "outputs": [
    {
     "data": {
      "text/plain": [
       "mean      4.285946e+04\n",
       "median    3.792331e+04\n",
       "var       5.709828e+08\n",
       "std       2.389525e+04\n",
       "sem       1.442959e+02\n",
       "Name: relative_velocity, dtype: float64"
      ]
     },
     "execution_count": 9,
     "metadata": {},
     "output_type": "execute_result"
    }
   ],
   "source": [
    "velocity_s = unique_objects_df['relative_velocity'].agg(['mean', 'median', 'var', 'std', 'sem'])\n",
    "velocity_s"
   ]
  },
  {
   "cell_type": "code",
   "execution_count": 10,
   "metadata": {},
   "outputs": [
    {
     "data": {
      "text/plain": [
       "mean      23.361668\n",
       "median    23.600000\n",
       "var        8.236446\n",
       "std        2.869921\n",
       "sem        0.017331\n",
       "Name: absolute_magnitude, dtype: float64"
      ]
     },
     "execution_count": 10,
     "metadata": {},
     "output_type": "execute_result"
    }
   ],
   "source": [
    "magnitude_s = unique_objects_df['absolute_magnitude'].agg(['mean', 'median', 'var', 'std', 'sem'])\n",
    "magnitude_s"
   ]
  },
  {
   "cell_type": "code",
   "execution_count": 11,
   "metadata": {},
   "outputs": [
    {
     "data": {
      "text/plain": [
       "mean      0.139082\n",
       "median    0.050647\n",
       "var       0.140191\n",
       "std       0.374420\n",
       "sem       0.002261\n",
       "Name: est_diameter_min, dtype: float64"
      ]
     },
     "execution_count": 11,
     "metadata": {},
     "output_type": "execute_result"
    }
   ],
   "source": [
    "dia_min_s =  unique_objects_df['est_diameter_min'].agg(['mean', 'median', 'var', 'std', 'sem'])\n",
    "dia_min_s"
   ]
  },
  {
   "cell_type": "code",
   "execution_count": 12,
   "metadata": {},
   "outputs": [
    {
     "data": {
      "text/plain": [
       "mean      0.310996\n",
       "median    0.113250\n",
       "var       0.700953\n",
       "std       0.837229\n",
       "sem       0.005056\n",
       "Name: est_diameter_max, dtype: float64"
      ]
     },
     "execution_count": 12,
     "metadata": {},
     "output_type": "execute_result"
    }
   ],
   "source": [
    "dia_max_s =  unique_objects_df['est_diameter_max'].agg(['mean', 'median', 'var', 'std', 'sem'])\n",
    "dia_max_s"
   ]
  },
  {
   "cell_type": "code",
   "execution_count": 13,
   "metadata": {},
   "outputs": [
    {
     "data": {
      "text/html": [
       "<div>\n",
       "<style scoped>\n",
       "    .dataframe tbody tr th:only-of-type {\n",
       "        vertical-align: middle;\n",
       "    }\n",
       "\n",
       "    .dataframe tbody tr th {\n",
       "        vertical-align: top;\n",
       "    }\n",
       "\n",
       "    .dataframe thead th {\n",
       "        text-align: right;\n",
       "    }\n",
       "</style>\n",
       "<table border=\"1\" class=\"dataframe\">\n",
       "  <thead>\n",
       "    <tr style=\"text-align: right;\">\n",
       "      <th></th>\n",
       "      <th>miss_distance</th>\n",
       "      <th>relative_velocity</th>\n",
       "      <th>absolute_magnitude</th>\n",
       "      <th>est_diameter_min</th>\n",
       "      <th>est_diameter_max</th>\n",
       "    </tr>\n",
       "  </thead>\n",
       "  <tbody>\n",
       "    <tr>\n",
       "      <th>mean</th>\n",
       "      <td>1.770540e+07</td>\n",
       "      <td>4.285946e+04</td>\n",
       "      <td>23.361668</td>\n",
       "      <td>0.139082</td>\n",
       "      <td>0.310996</td>\n",
       "    </tr>\n",
       "    <tr>\n",
       "      <th>median</th>\n",
       "      <td>1.145114e+07</td>\n",
       "      <td>3.792331e+04</td>\n",
       "      <td>23.600000</td>\n",
       "      <td>0.050647</td>\n",
       "      <td>0.113250</td>\n",
       "    </tr>\n",
       "    <tr>\n",
       "      <th>var</th>\n",
       "      <td>2.972905e+14</td>\n",
       "      <td>5.709828e+08</td>\n",
       "      <td>8.236446</td>\n",
       "      <td>0.140191</td>\n",
       "      <td>0.700953</td>\n",
       "    </tr>\n",
       "    <tr>\n",
       "      <th>std</th>\n",
       "      <td>1.724212e+07</td>\n",
       "      <td>2.389525e+04</td>\n",
       "      <td>2.869921</td>\n",
       "      <td>0.374420</td>\n",
       "      <td>0.837229</td>\n",
       "    </tr>\n",
       "    <tr>\n",
       "      <th>sem</th>\n",
       "      <td>1.041197e+05</td>\n",
       "      <td>1.442959e+02</td>\n",
       "      <td>0.017331</td>\n",
       "      <td>0.002261</td>\n",
       "      <td>0.005056</td>\n",
       "    </tr>\n",
       "  </tbody>\n",
       "</table>\n",
       "</div>"
      ],
      "text/plain": [
       "        miss_distance  relative_velocity  absolute_magnitude  \\\n",
       "mean     1.770540e+07       4.285946e+04           23.361668   \n",
       "median   1.145114e+07       3.792331e+04           23.600000   \n",
       "var      2.972905e+14       5.709828e+08            8.236446   \n",
       "std      1.724212e+07       2.389525e+04            2.869921   \n",
       "sem      1.041197e+05       1.442959e+02            0.017331   \n",
       "\n",
       "        est_diameter_min  est_diameter_max  \n",
       "mean            0.139082          0.310996  \n",
       "median          0.050647          0.113250  \n",
       "var             0.140191          0.700953  \n",
       "std             0.374420          0.837229  \n",
       "sem             0.002261          0.005056  "
      ]
     },
     "execution_count": 13,
     "metadata": {},
     "output_type": "execute_result"
    }
   ],
   "source": [
    "summary_df = pd.DataFrame({\n",
    "    'miss_distance' : miss_s,\n",
    "    'relative_velocity' : velocity_s,\n",
    "    'absolute_magnitude' : magnitude_s,\n",
    "    'est_diameter_min' : dia_min_s,\n",
    "    'est_diameter_max' : dia_max_s,\n",
    "})\n",
    "summary_df"
   ]
  },
  {
   "cell_type": "markdown",
   "metadata": {},
   "source": [
    "### Graphs\n",
    "- Pie: hazardous Y\n",
    "- Pie: % of objects in the distance rangs\n",
    "- Pie: % of objects in the magnitude range\n",
    "- Bar: % of objects belonging in the distance range are Hazardous\n",
    "- Bar: % of objects belonging in the Magnitude range are Hazardous\n",
    "- Scatter: The relationship between the objects in the ditance ragne and the magnitude range\n",
    "- Box (complete df): Variation in the distance and the Magnitude population\n",
    "- Box (true df): Variation in the distance and the Magnitude Sample\n"
   ]
  },
  {
   "cell_type": "code",
   "execution_count": 14,
   "metadata": {},
   "outputs": [
    {
     "data": {
      "image/png": "[encoded data removed]",
      "text/plain": [
       "<Figure size 640x480 with 1 Axes>"
      ]
     },
     "metadata": {},
     "output_type": "display_data"
    }
   ],
   "source": [
    "hazardous = unique_objects_df['hazardous'].value_counts()\n",
    "hazardous.plot.pie(autopct = '%1.1f%%')\n",
    "plt.show()"
   ]
  },
  {
   "cell_type": "code",
   "execution_count": 24,
   "metadata": {},
   "outputs": [
    {
     "data": {
      "image/png": "[encoded data removed]",
      "text/plain": [
       "<Figure size 640x480 with 1 Axes>"
      ]
     },
     "metadata": {},
     "output_type": "display_data"
    }
   ],
   "source": [
    "distance_true = unique_objects_df[unique_objects_df['miss_distance'] <= 7500000].value_counts()\n",
    "distance_false = unique_objects_df[unique_objects_df['miss_distance'] >= 7500000].value_counts()\n",
    "\n",
    "dist_true_len = len(distance_true)\n",
    "dist_false_len = len(distance_false)\n",
    "distance = [dist_true_len, dist_false_len]\n",
    "\n",
    "magnitude_true = unique_objects_df[unique_objects_df['absolute_magnitude'] <= 22].value_counts()\n",
    "magnitude_false = unique_objects_df[unique_objects_df['absolute_magnitude'] >= 22].value_counts()\n",
    "\n",
    "mag_true_len = len(magnitude_true)\n",
    "mag_false_len = len(magnitude_false)\n",
    "magnitude = [mag_true_len, mag_false_len]\n",
    "\n",
    "plt.pie(distance, autopct = '%1.1f%%')\n",
    "plt.pie(magnitude, autopct = '%1.1f%%')\n",
    "plt.show()\n",
    "\n",
    "fig, ax = plt.subplots()\n",
    "plt.scatter(x, y)\n",
    "plt.plot(x, y_lr, color = 'red')\n",
    "plt.xlabel('Lat')\n",
    "plt.ylabel(additional)\n",
    "plt.title(f'y = {slope:.4f} * x + {intercept:.4f}', color = 'red')\n",
    "plt.show()"
   ]
  },
  {
   "cell_type": "code",
   "execution_count": null,
   "metadata": {},
   "outputs": [],
   "source": []
  }
 ],
 "metadata": {
  "kernelspec": {
   "display_name": "data",
   "language": "python",
   "name": "python3"
  },
  "language_info": {
   "codemirror_mode": {
    "name": "ipython",
    "version": 3
   },
   "file_extension": ".py",
   "mimetype": "text/x-python",
   "name": "python",
   "nbconvert_exporter": "python",
   "pygments_lexer": "ipython3",
   "version": "3.11.4"
  }
 },
 "nbformat": 4,
 "nbformat_minor": 2
}
